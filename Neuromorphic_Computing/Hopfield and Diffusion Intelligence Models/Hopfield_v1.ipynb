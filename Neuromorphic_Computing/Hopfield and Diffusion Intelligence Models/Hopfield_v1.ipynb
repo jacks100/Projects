{
  "nbformat": 4,
  "nbformat_minor": 0,
  "metadata": {
    "colab": {
      "name": "Hopfield_v1.ipynb",
      "provenance": []
    },
    "kernelspec": {
      "name": "python3",
      "display_name": "Python 3"
    }
  },
  "cells": [
    {
      "cell_type": "markdown",
      "metadata": {
        "id": "VyhmhwHQMEO7"
      },
      "source": [
        "#Hopfield Network\n",
        "Asynchronous update, since this is more biologically plausible. Weight symmetry"
      ]
    },
    {
      "cell_type": "code",
      "metadata": {
        "id": "TEhP750NNPhc"
      },
      "source": [
        "import numpy as np\n",
        "import matplotlib.pyplot as plt"
      ],
      "execution_count": null,
      "outputs": []
    },
    {
      "cell_type": "code",
      "metadata": {
        "id": "NUUQPmdrMKso"
      },
      "source": [
        "class Hopfield_Network:\n",
        "  def __init__(self, N, epsilon):\n",
        "    \"\"\"Arguments:\n",
        "          self: instance of class\n",
        "          N: number of nodes\n",
        "          epsilon: training factor\n",
        "      Returns:\n",
        "          Nothing\"\"\"\n",
        "    self.N = N\n",
        "    self.state = np.ones(N) # state vector\n",
        "\n",
        "    self.weights = np.random.choice([-1,1], (N, N)) # create random matrix of -1, 1\n",
        "    self.epsilon = N # default\n",
        "    self.energy = self.Hopfield_Network_compute_energy() # energy of network\n",
        "    # make self.weights symmetric\n",
        "    for row in range(self.N):\n",
        "      for col in range(row, self.N):\n",
        "        self.weights[col][row] = self.weights[row][col]\n",
        "  \n",
        "  def Hopfield_Network_train_memory_single(self, p_vector):\n",
        "    \"\"\"Arguments:\n",
        "          self: instance of class\n",
        "          p_vector: memory to learn (np column vector)\n",
        "      Returns:\n",
        "          Nothing\"\"\"\n",
        "    self.weights = self.weights + self.epsilon * (p_vector * np.transpose(p_vector) - np.identity(self.N)) # subtract identity to have zero self weights\n",
        "    \n",
        "  def Hopfield_Network_train_memory_collection(self, p_matrix):\n",
        "    \"\"\"Arguments:\n",
        "          self: instance of class\n",
        "          p_matrix: matrix of memories, each memory is column vector (can be single memory)\n",
        "        Returns:\n",
        "          Nothing\"\"\"\n",
        "    self.weights = self.epsilon * (p_matrix.dot(np.transpose(p_matrix)) - np.identity(self.N)) # should I have identity\n",
        "  \n",
        "  \n",
        "  def Hopfield_Network_set_state(self, state_initial):\n",
        "    \"\"\"Arguments:\n",
        "          self: instance of class\n",
        "          state_initial: initial states\n",
        "        Returns:\n",
        "          Nothing\"\"\"\n",
        "    self.state = np.copy(state_initial)\n",
        "\n",
        "  def Hopfield_Network_evolve_one_step(self):\n",
        "    \"\"\"Arguments:\n",
        "          self: instance of class\n",
        "        Returns:\n",
        "          Nothing\"\"\"\n",
        "    node_index = np.random.randint(0, self.N)\n",
        "   # print(\"Index\", node_index)\n",
        "    node_energy = self.weights[node_index].dot(self.state)\n",
        "    #print(\"node energy\", node_energy)\n",
        "    # update\n",
        "    if node_energy >= 0:\n",
        "      self.state[node_index] = 1\n",
        "    else:\n",
        "      self.state[node_index] = -1\n",
        "  \n",
        "  def Hopfield_Network_evolve_fully_async(self):\n",
        "    \"\"\"Arguments:\n",
        "          self: instance of class\n",
        "        Returns:\n",
        "          Nothing\"\"\"\n",
        "\n",
        "    # evolve one step\n",
        "    energy_prev = self.energy\n",
        "    self.Hopfield_Network_evolve_one_step()\n",
        "    self.energy = self.Hopfield_Network_compute_energy()\n",
        "    count = 0 # number of times there is no decrease in energy\n",
        "    while count < 3 * self.N: # could compare state vector instead of energy\n",
        "      if self.energy == energy_prev:\n",
        "        count = count + 1\n",
        "      else:\n",
        "        count = 0\n",
        "      energy_prev = self.energy\n",
        "      self.Hopfield_Network_evolve_one_step()\n",
        "      self.energy = self.Hopfield_Network_compute_energy()\n",
        "\n",
        "\n",
        "  \n",
        "  def Hopfield_Network_compute_energy(self):\n",
        "    \"\"\"Arguments:\n",
        "          self: instance of class\n",
        "        Returns:\n",
        "          energy: energy of network for given weights and current state\"\"\"\n",
        "    energy = 0\n",
        "    for i in range(self.N):\n",
        "      for j in range(self.N):\n",
        "        energy = energy + self.weights[i][j] * self.state[i] * self.state[j] # can convert inner loop into matrix multiplication\n",
        "    energy = -0.5 * energy\n",
        "    return energy\n",
        "\n",
        "\n",
        "    \n",
        "    \n",
        "  \n",
        "  def Hopfield_Network_get_weights(self):\n",
        "    \"\"\"Arguments:\n",
        "          self: instance of class\n",
        "        Returns:\n",
        "          self.weights: weights of network\"\"\"\n",
        "    return np.copy(self.weights)\n",
        "  \n",
        "  def Hopfield_Network_get_state(self):\n",
        "    \"\"\"Arguments:\n",
        "          self: instance of class\n",
        "        Returns:\n",
        "          self.state: state of network\"\"\"\n",
        "    return np.copy(self.state)\n",
        "  \n",
        "  def Hopfield_Network_get_energy(self):\n",
        "    \"\"\"Arguments:\n",
        "          self: instance of class\n",
        "        Returns:\n",
        "          self.energy: energy of network\"\"\"\n",
        "    return self.energy\n",
        "\n",
        " \n",
        "\n",
        "\n",
        "\n",
        "\n",
        "\n",
        "\n"
      ],
      "execution_count": null,
      "outputs": []
    },
    {
      "cell_type": "markdown",
      "metadata": {
        "id": "3OsxoXZawfhU"
      },
      "source": [
        "#Memory"
      ]
    },
    {
      "cell_type": "code",
      "metadata": {
        "id": "vfvUuGpNwg_H"
      },
      "source": [
        "def Hamming_Modify(p_vec, distance):\n",
        "  \"\"\"Arguments:\n",
        "        p_vec: vector of a single memory\n",
        "        distance: number of elements to change within memory\n",
        "      Returns:\n",
        "        p_vec_modified: p_vec with edits\"\"\"\n",
        "\n",
        "  length = len(p_vec)\n",
        "  p_vec_modified = np.copy(p_vec)\n",
        "  indexes = np.random.choice(range(length), distance, replace = False)\n",
        "  p_vec_modified[indexes] = -1 * p_vec[indexes] # modify indexes\n",
        "  return p_vec_modified\n",
        "\n",
        "\n"
      ],
      "execution_count": null,
      "outputs": []
    },
    {
      "cell_type": "markdown",
      "metadata": {
        "id": "_D7SScSd7KwK"
      },
      "source": [
        "# Test the Hopfield Network\n",
        "\n",
        "HN is trained on a set of memories. A memory is chosen and is mutated according to some Hamming distance. This mutated memory is set as the initial state of the HN. The HN evolves asynchronously. The HN is evaulated for different edit distances for each memory for multiple trials (reduce statistical variability)."
      ]
    },
    {
      "cell_type": "code",
      "metadata": {
        "id": "L9oLuBpJ7MkT"
      },
      "source": [
        "def HN_Test(N, memory_count, max_edit_distance, trials_per_edit_distance_per_memory):\n",
        "  \"\"\"Arguments:\n",
        "        N: number of nodes\n",
        "        memory_count: number of different memories\n",
        "        max_edit_distance: maximum changes to a given memory that will be tested\n",
        "        trials_per_edit_distance_per_memory: number of simulations at a given distance of a given memory, to improve reliability\n",
        "      Returns:\n",
        "        Nothing\"\"\"\n",
        "  HN = Hopfield_Network(N, N) # create HN\n",
        "  p_memory = np.random.choice([-1,1], (N, memory_count)) # define memories\n",
        "  HN.Hopfield_Network_train_memory_collection(p_memory) # train network on memories\n",
        "\n",
        "  # accuracy metrics\n",
        "  boolean_accuracy = np.zeros(max_edit_distance)\n",
        "  bit_accuracy = np.zeros(max_edit_distance)\n",
        "  for distance in range(max_edit_distance): # iterate over edit distances\n",
        "    for memory_vector in np.transpose(p_memory): # iterate over all of the memories\n",
        "      for trial in range(trials_per_edit_distance_per_memory): # iterate over trials\n",
        "        state_initial = Hamming_Modify(memory_vector, distance + 1) # create initial state that is modified version of memory_vector\n",
        "        HN.Hopfield_Network_set_state(state_initial) # set state of HN\n",
        "        HN.Hopfield_Network_evolve_fully_async() # evolve fully\n",
        "        state_final = HN.Hopfield_Network_get_state() # get final state of network\n",
        "        boolean_accuracy[distance] = boolean_accuracy[distance] + np.array_equal(memory_vector, state_final) # accuracy measured on a per memory basis\n",
        "        bit_accuracy[distance] = bit_accuracy[distance] + sum(memory_vector == state_final) # accuracy measured by bit\n",
        "  boolean_accuracy = boolean_accuracy / (trials_per_edit_distance_per_memory * np.shape(p_memory)[1])\n",
        "  bit_accuracy = bit_accuracy / (trials_per_edit_distance_per_memory * np.shape(p_memory)[0] * np.shape(p_memory)[1])\n",
        "  return (range(1, max_edit_distance + 1), boolean_accuracy, bit_accuracy)\n",
        "  \n",
        "  "
      ],
      "execution_count": null,
      "outputs": []
    },
    {
      "cell_type": "code",
      "metadata": {
        "id": "taV4avyv_pCv"
      },
      "source": [
        "distances, boolean_accuracy, bit_accuracy = HN_Test(50, 3, 20, 6)"
      ],
      "execution_count": null,
      "outputs": []
    },
    {
      "cell_type": "markdown",
      "metadata": {
        "id": "wbBl-F8pER4R"
      },
      "source": [
        "#Plot Results\n",
        "\n",
        "Boolean Accuracy: after the evolutionn in what fraction of the instances does the final state of the HN match the memory on which the mutation was performed.\n",
        "\n",
        "Bit Accuracy: after the evolution what fraction of the bits of the final state of the HN match the bits of the memory on which the mutation was performed.\n",
        "\n",
        "Any bit accuracy less than one for a given trial, causes the boolean accuracy to be 0 in that trial.\n",
        "\n"
      ]
    },
    {
      "cell_type": "code",
      "metadata": {
        "colab": {
          "base_uri": "https://localhost:8080/",
          "height": 295
        },
        "id": "dyuki6Tf_0Ts",
        "outputId": "647868fa-b244-4be4-e99c-cd75a2da2241"
      },
      "source": [
        "plt.plot(distances, boolean_accuracy, label = \"Accuracy Per Memory\")\n",
        "plt.plot(distances, bit_accuracy, label = \"Accuracy Per Bit\")\n",
        "plt.legend()\n",
        "plt.title(\"Accuracy versus Distance of Initial State from a Memory\")\n",
        "plt.xlabel(\"Edit Distance of Initial State from a Memory\")\n",
        "plt.ylabel(\"Accuracy\")\n",
        "plt.show()"
      ],
      "execution_count": null,
      "outputs": [
        {
          "output_type": "display_data",
          "data": {
            "image/png": "[encoded data removed]",
            "text/plain": [
              "<Figure size 432x288 with 1 Axes>"
            ]
          },
          "metadata": {
            "tags": [],
            "needs_background": "light"
          }
        }
      ]
    },
    {
      "cell_type": "code",
      "metadata": {
        "id": "rqWPGKXaAuqq"
      },
      "source": [
        ""
      ],
      "execution_count": null,
      "outputs": []
    }
  ]
}