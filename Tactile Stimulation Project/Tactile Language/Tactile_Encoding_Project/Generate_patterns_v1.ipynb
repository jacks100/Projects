{
  "nbformat": 4,
  "nbformat_minor": 0,
  "metadata": {
    "colab": {
      "name": "Copy of ELE464_Independent_Test_optimization_v1.ipynb",
      "provenance": [],
      "collapsed_sections": []
    },
    "kernelspec": {
      "display_name": "Python 3",
      "language": "python",
      "name": "python3"
    },
    "language_info": {
      "codemirror_mode": {
        "name": "ipython",
        "version": 3
      },
      "file_extension": ".py",
      "mimetype": "text/x-python",
      "name": "python",
      "nbconvert_exporter": "python",
      "pygments_lexer": "ipython3",
      "version": "3.7.0"
    }
  },
  "cells": [
    {
      "cell_type": "markdown",
      "metadata": {
        "id": "IagxYKOMELoc"
      },
      "source": [
        "Import Statements"
      ]
    },
    {
      "cell_type": "code",
      "metadata": {
        "id": "7cCrUEMuEYhf"
      },
      "source": [
        "# initial test, smaller block and action sizes than later on\n",
        "import statistics\n",
        "import itertools\n",
        "import numpy as np\n",
        "import random\n",
        "import serial #!!!!!!NEEED to import\n",
        "import time\n",
        "import warnings"
      ],
      "execution_count": null,
      "outputs": []
    },
    {
      "cell_type": "markdown",
      "metadata": {
        "id": "h_hOzqIsEZGc"
      },
      "source": [
        "Create a block"
      ]
    },
    {
      "cell_type": "code",
      "metadata": {
        "id": "12RXrKVzEPZS"
      },
      "source": [
        "block_transmit_array = [1,2,3]\n",
        "action_transmit_array = [0,1,2]\n",
        "queue_length_array = [0,1,2]\n",
        "word_array = [\"Sugar\", \"Car\", \"Ham\"]\n",
        "print (word_array)\n",
        "print(1)"
      ],
      "execution_count": null,
      "outputs": []
    },
    {
      "cell_type": "code",
      "metadata": {
        "colab": {
          "base_uri": "https://localhost:8080/",
          "height": 86
        },
        "id": "P2iRf0kZKvek",
        "outputId": "297106ee-f6a2-4bab-c81c-9d74d7e5988a"
      },
      "source": [
        "\n",
        "number_of_words = 3\n",
        "def computeDistance(x_array, y_array, alpha = 0.1):\n",
        "  distance = 0\n",
        "  for i in range(len(x_array)):\n",
        "    for j in range(len(y_array)):\n",
        "      distance  = distance +  (1/(1 + (alpha * abs(i-j)))) * ((x_array[i] - y_array[j]) ** 2)\n",
        "  distance = distance / (abs(np.dot(x_array, y_array)) + 0.1)\n",
        "  return distance\n",
        "\n",
        "\n",
        "############# Represent a pattern as a single vector showing frequency at different points in time\n",
        "def convertToTime(block_pattern, action_pattern, steps  = 100):\n",
        "  output_vector = []\n",
        "  for block, action in zip(block_pattern, action_pattern):\n",
        "      output_vector.extend(repeat(action, int(block*100)))\n",
        "  return output_vector\n",
        "\n",
        "\n",
        "def createTimeArray(number_of_words = 3): # create collection of patternns for all of the words\n",
        "  block_transmit_array = list(range(0, number_of_words))\n",
        "  action_transmit_array = list(range(0, number_of_words))\n",
        "  queue_length_array = list(range(0, number_of_words))\n",
        "  time_vector = list(range(0, number_of_words))\n",
        "  pair_array = list(itertools.combinations(list(range(0, number_of_words)),2))\n",
        "  for i in range(number_of_words):\n",
        "    block_pattern, action_pattern = create_pattern()\n",
        "    block_transmit_array[i] = block_pattern\n",
        "    action_transmit_array[i] = action_pattern\n",
        "    queue_length_array[i] = len(block_pattern)\n",
        "    time_vector[i] = convertToTime(block_pattern, action_pattern)\n",
        "  #### make all vectors same length\n",
        "  time_vector_lengths = list(map(lambda vec: len(vec), time_vector))\n",
        "  max_length = max(time_vector_lengths)\n",
        "  for vec, length in zip(time_vector, time_vector_lengths):\n",
        "    vec.extend(repeat(0, max_length - length))\n",
        "  time_vector_lengths = list(map(lambda vec: len(vec), time_vector))\n",
        "  return (block_transmit_array, action_transmit_array, queue_length_array, time_vector, pair_array)\n",
        "\n",
        "#### Compute all pairwise distances\n",
        "def findBestPattern(iterations = 15):\n",
        "  block_transmit_array_best = [] # for the final result\n",
        "  action_transmit_array_best = [] # for final result\n",
        "  queue_length_array_best = [] # for final result\n",
        "  block_transmit_array_worst = [] # test\n",
        "  action_transmit_array_worst = [] # test\n",
        "  queue_length_array_worst = [] # test\n",
        "  max_distance = 0\n",
        "  min_distance = 10**7 # test\n",
        "  distance_array = []\n",
        "  for i in range(iterations): # create 10 different sets of transmission arrays and find the best\n",
        "    block_transmit_array, action_transmit_array, queue_length_array, time_vector, pair_array = createTimeArray(number_of_words = 3)\n",
        "    distance = 0\n",
        "    for pair in pair_array:\n",
        "      distance += computeDistance(time_vector[pair[0]], time_vector[pair[1]])\n",
        "    distance_array.append(distance)\n",
        "    if distance > max_distance: # update best pattern \n",
        "      max_distance = distance \n",
        "      block_transmit_array_best = block_transmit_array\n",
        "      action_transmit_array_best = action_transmit_array\n",
        "      queue_length_array_best = queue_length_array\n",
        "    if distance < min_distance: # update best pattern \n",
        "      min_distance = distance \n",
        "      block_transmit_array_worst = block_transmit_array\n",
        "      action_transmit_array_worst = action_transmit_array\n",
        "      queue_length_array_worst = queue_length_array\n",
        "  return (distance_array, block_transmit_array_best, action_transmit_array_best, queue_length_array_best, block_transmit_array_worst, action_transmit_array_worst, queue_length_array_worst)\n",
        "\n",
        "distance, block_transmit_array_best, action_transmit_array_best, queue_length_array_best, block_transmit_array_worst, action_transmit_array_worst, queue_length_array_worst = findBestPattern()\n",
        "print(\"Max: \", max(distance))\n",
        "print(\"MIN: \", min(distance))\n",
        "print(\"MEAN: \", statistics.mean(distance))\n",
        "print(\"STD: \", stdev(distance))\n",
        "\n",
        "  \n",
        "\n",
        "\n",
        "\n",
        "\n",
        "\n"
      ],
      "execution_count": null,
      "outputs": [
        {
          "output_type": "stream",
          "text": [
            "Max:  1813479.4014407885\n",
            "MIN:  21.953948083861604\n",
            "MEAN:  259436.036807554\n",
            "STD:  564114.8140971875\n"
          ],
          "name": "stdout"
        }
      ]
    },
    {
      "cell_type": "code",
      "metadata": {
        "colab": {
          "base_uri": "https://localhost:8080/",
          "height": 155
        },
        "id": "-d0RHRbne6Wo",
        "outputId": "f7e40b81-cb50-4714-ccbf-c8c349977d64"
      },
      "source": [
        "print(block_transmit_array_best)\n",
        "print(action_transmit_array_best)\n",
        "print(queue_length_array_best)\n",
        "print('\\n')\n",
        "print(block_transmit_array_worst)\n",
        "print(action_transmit_array_worst)\n",
        "print(queue_length_array_worst)"
      ],
      "execution_count": null,
      "outputs": [
        {
          "output_type": "stream",
          "text": [
            "[[3.0, 3.0], [], [2.0, 1.5, 2.5, 3.5]]\n",
            "[[0.7, 1.1999999999999997], [], [1.0999999999999999, 1.4999999999999998, 0.7999999999999999, 0.9999999999999999]]\n",
            "[2, 0, 4]\n",
            "\n",
            "\n",
            "[[2.5, 1.5, 4.5, 1.0], [8.0, 1.0], [2.5, 1.5, 5.5]]\n",
            "[[1.2999999999999998, 0.9999999999999999, 1.1999999999999997, 0.8999999999999999], [0.9999999999999999, 0.7], [1.4, 1.1999999999999997, 1.1999999999999997]]\n",
            "[4, 2, 3]\n"
          ],
          "name": "stdout"
        }
      ]
    },
    {
      "cell_type": "code",
      "metadata": {
        "colab": {
          "base_uri": "https://localhost:8080/",
          "height": 35
        },
        "id": "m0oWIi8YL-XK",
        "outputId": "cd50d804-4078-417f-f12d-f7fc46b292e8"
      },
      "source": [
        "from statistics import stdev \n",
        "q = [3,4,6,84,6]\n",
        "print(statistics.mean(q)) "
      ],
      "execution_count": null,
      "outputs": [
        {
          "output_type": "stream",
          "text": [
            "20.6\n"
          ],
          "name": "stdout"
        }
      ]
    },
    {
      "cell_type": "code",
      "metadata": {
        "id": "J3Vt0a94Q861"
      },
      "source": [
        "import itertools"
      ],
      "execution_count": null,
      "outputs": []
    },
    {
      "cell_type": "code",
      "metadata": {
        "id": "56MKyliGf5OP"
      },
      "source": [
        "current_time  = 10\n",
        "total_time = 10\n",
        "block_increment = 0.5\n",
        "action_increment = 0.1\n",
        "block_size_reference = np.arange(0.5,10, block_increment)\n",
        "action_reference = np.arange(0.7, 1.6, action_increment)\n",
        "\n",
        "\n",
        "def effective(block_size_reference, current_time):\n",
        "  val = [i for i in block_size_reference if i < current_time]\n",
        "  if val != None:\n",
        "    return val\n",
        "  return None\n",
        "\n",
        "def create_pattern():\n",
        "  \"\"\"Arguments:\n",
        "        None\n",
        "      Returns:\n",
        "        block_pattern: time for which each action executed\n",
        "        action_pattern: the periods of the different stimulations\n",
        "  \"\"\"\n",
        "  # Arrays for stimulation information\n",
        "  block_pattern = []\n",
        "  action_pattern =[]\n",
        "  current_time = total_time\n",
        "  while (current_time -0.1) > 0:\n",
        "    # assess which block sizes are available\n",
        "    block_size_reference_effective = effective(block_size_reference, current_time)\n",
        "    if (len(block_size_reference_effective) == 0):\n",
        "        break;\n",
        "    block = random.choice(block_size_reference_effective)\n",
        "    # assess which actions are available\n",
        "    action_reference_effective = effective(action_reference, block)\n",
        "    if (len(action_reference_effective)  == 0):\n",
        "        break\n",
        "    action = random.choice(action_reference_effective)\n",
        "    # append entries to the pattern\n",
        "    block_pattern.append(block)\n",
        "    action_pattern.append(action)\n",
        "    # update remaining time\n",
        "    current_time = current_time - block\n",
        "    \n",
        "  return (block_pattern, action_pattern)"
      ],
      "execution_count": null,
      "outputs": []
    },
    {
      "cell_type": "code",
      "metadata": {
        "id": "A_2NpuMYKY1L"
      },
      "source": [
        "\n",
        "# all signals are 10s with different constant frequencies\n",
        "for i in range(3):\n",
        "    block_transmit_array[i] = [len(block_size_reference) - 1]\n",
        "    action_transmit_array[i] = [math.floor((i) * len(action_reference) / 3)]\n",
        "    queue_length_array[i] = 1\n",
        "    if i == 0:\n",
        "        action_transmit_array[0] = [1]"
      ],
      "execution_count": null,
      "outputs": []
    },
    {
      "cell_type": "code",
      "metadata": {
        "id": "5c81_A47KY1P"
      },
      "source": [
        "\n",
        "# all signals have same middle frequency but run for different amounts of time\n",
        "for i in range(3):\n",
        "    block_transmit_array[i] = [math.floor((i) * len(block_size_reference) / 3)]\n",
        "    action_transmit_array[i] = [int(len(action_reference)/2 + 1)]\n",
        "    queue_length_array[i] = 1\n",
        "    if i == 0:\n",
        "        block_transmit_array[0] = [1]"
      ],
      "execution_count": null,
      "outputs": []
    },
    {
      "cell_type": "code",
      "metadata": {
        "id": "SH2zOM2UKY1T",
        "outputId": "98bf5fbf-9fd1-47ee-9020-b2b56a8e8b42"
      },
      "source": [
        "print(block_transmit_array)\n",
        "print(action_transmit_array)"
      ],
      "execution_count": null,
      "outputs": [
        {
          "output_type": "stream",
          "text": [
            "[[1], [6], [12]]\n",
            "[[5], [5], [5]]\n"
          ],
          "name": "stdout"
        }
      ]
    },
    {
      "cell_type": "code",
      "metadata": {
        "id": "v6e397T1KY1X"
      },
      "source": [
        "# transmit to arduino SERIAL\n",
        "start = 99\n",
        "stop = 100\n",
        "port = '/dev/cu.usbmodem143301'\n",
        "ser = serial.Serial(port, 9600, timeout = 0.2)\n",
        "\n",
        "import serial.tools.list_ports\n",
        "def transmit(block_pattern_transmit, action_pattern_transmit, queue_length):\n",
        "\n",
        "    #ser.flushInput() #This gives the bluetooth a little kick\n",
        "    #packet = bytearray()\n",
        "\n",
        "    #ser.write(str.encode(chr(start)))\n",
        "    ser.write(str.encode(chr(queue_length)))\n",
        "    #time.sleep(0.002)\n",
        "    for block in block_pattern_transmit:\n",
        "        ser.write(str.encode(chr(block)))\n",
        "        #time.sleep(0.002)\n",
        "    for action in action_pattern_transmit:\n",
        "        ser.write(str.encode(chr(action)))\n",
        "      #  time.sleep(0.002)\n",
        "    ser.write(str.encode(chr(stop)))\n",
        "    time.sleep(15)\n",
        "    print(\"Done\")\n",
        "#ser.close()\n"
      ],
      "execution_count": null,
      "outputs": []
    },
    {
      "cell_type": "code",
      "metadata": {
        "colab": {
          "base_uri": "https://localhost:8080/",
          "height": 35
        },
        "id": "EvzWH8Nmj2qY",
        "outputId": "412db9e9-11bd-4c8c-b9f8-0e75642c066e"
      },
      "source": [
        "# training script\n",
        "for i in range(number_of_words):\n",
        "    block_pattern_transmit = list(map(lambda x: list(block_size_reference).index(x), block_pattern))\n",
        "    action_pattern_transmit = list(map(lambda x: list(action_reference).index(x), action_pattern))\n",
        "for i in range(2):\n",
        "    index = random.randint(0,2)\n",
        "    print(\"Training round: \")\n",
        "    print(i)\n",
        "    print(word_array[index])\n",
        "    transmit(block_transmit_array[index], action_transmit_array[index], queue_length_array[index])\n",
        "    \n"
      ],
      "execution_count": null,
      "outputs": [
        {
          "output_type": "stream",
          "text": [
            "Training round: \n",
            "0\n",
            "Ham\n",
            "Done\n",
            "Training round: \n",
            "1\n",
            "Sugar\n",
            "Done\n"
          ],
          "name": "stdout"
        }
      ]
    },
    {
      "cell_type": "code",
      "metadata": {
        "id": "UksQoZyiKY1i",
        "outputId": "34b9e4d2-8c5b-480d-dc0f-06465f800a4c"
      },
      "source": [
        "# testing script\n",
        "answer_array = []\n",
        "for i in range(15):\n",
        "    print(\"start\")\n",
        "    index = random.randint(0,2)\n",
        "    print(\"Training round: \")\n",
        "    print(i)\n",
        "    answer_array.append(word_array[index])\n",
        "    transmit(block_transmit_array[index], action_transmit_array[index], queue_length_array[index])\n",
        "    \n"
      ],
      "execution_count": null,
      "outputs": [
        {
          "output_type": "stream",
          "text": [
            "start\n",
            "Training round: \n",
            "0\n",
            "Done\n",
            "start\n",
            "Training round: \n",
            "1\n",
            "Done\n",
            "start\n",
            "Training round: \n",
            "2\n",
            "Done\n",
            "start\n",
            "Training round: \n",
            "3\n",
            "Done\n",
            "start\n",
            "Training round: \n",
            "4\n",
            "Done\n",
            "start\n",
            "Training round: \n",
            "5\n",
            "Done\n",
            "start\n",
            "Training round: \n",
            "6\n",
            "Done\n",
            "start\n",
            "Training round: \n",
            "7\n",
            "Done\n",
            "start\n",
            "Training round: \n",
            "8\n",
            "Done\n",
            "start\n",
            "Training round: \n",
            "9\n",
            "Done\n",
            "start\n",
            "Training round: \n",
            "10\n",
            "Done\n",
            "start\n",
            "Training round: \n",
            "11\n",
            "Done\n",
            "start\n",
            "Training round: \n",
            "12\n",
            "Done\n",
            "start\n",
            "Training round: \n",
            "13\n",
            "Done\n",
            "start\n",
            "Training round: \n",
            "14\n",
            "Done\n"
          ],
          "name": "stdout"
        }
      ]
    },
    {
      "cell_type": "code",
      "metadata": {
        "id": "BBTAIWfIjxON"
      },
      "source": [
        "####### Optimiation\n",
        "distance, block_transmit_array_best, action_transmit_array_best, queue_length_array_best, block_transmit_array_worst, action_transmit_array_worst, queue_length_array_worst = findBestPattern()\n",
        "for i in range(number_of_words):\n",
        "    block_transmit_array_best[i] = list(map(lambda x: list(block_size_reference).index(x), block_transmit_array_best[i]))\n",
        "    action_transmit_array_best[i] = list(map(lambda x: list(action_reference).index(x), action_transmit_array_best[i]))\n",
        "\n",
        "    block_transmit_array_worst[i] = list(map(lambda x: list(block_size_reference).index(x), block_transmit_array_worst[i]))\n",
        "    action_transmit_array_worst[i] = list(map(lambda x: list(action_reference).index(x), action_transmit_array_worst[i]))\n",
        "\n",
        "                            \n",
        "                                    \n",
        "                                \n",
        "                                    \n",
        "\n",
        "                                    \n",
        "                                    \n",
        "                                    "
      ],
      "execution_count": null,
      "outputs": []
    },
    {
      "cell_type": "code",
      "metadata": {
        "id": "zcdEXfFqCHnd",
        "outputId": "61c14f38-edf7-4571-a7cb-9b5c438bbcf2"
      },
      "source": [
        "# make sure comfortable for best\n",
        "for i in range(3):\n",
        "    print(\"Start\")\n",
        "    print(\"Training round: \")\n",
        "    print(i)\n",
        "    print(word_array[i])\n",
        "    transmit(block_transmit_array_best[i], action_transmit_array_best[i], queue_length_array_best[i])\n",
        "    \n"
      ],
      "execution_count": null,
      "outputs": [
        {
          "output_type": "stream",
          "text": [
            "Start\n",
            "Training round: \n",
            "0\n",
            "Sugar\n",
            "Done\n",
            "Start\n",
            "Training round: \n",
            "1\n",
            "Car\n",
            "Done\n",
            "Start\n",
            "Training round: \n",
            "2\n",
            "Ham\n",
            "Done\n"
          ],
          "name": "stdout"
        }
      ]
    },
    {
      "cell_type": "code",
      "metadata": {
        "id": "9ueYxnfQijDD",
        "outputId": "29859b27-deb4-481d-c382-68cd7ec0e990"
      },
      "source": [
        "# training script for best patterns\n",
        "for i in range(15):\n",
        "    print(\"Start\")\n",
        "    index = random.randint(0,2)\n",
        "    print(\"Training round: \")\n",
        "    print(i)\n",
        "    print(word_array[index])\n",
        "    transmit(block_transmit_array_best[index], action_transmit_array_best[index], queue_length_array_best[index])\n",
        "    \n"
      ],
      "execution_count": null,
      "outputs": [
        {
          "output_type": "stream",
          "text": [
            "Start\n",
            "Training round: \n",
            "0\n",
            "Sugar\n",
            "Done\n",
            "Start\n",
            "Training round: \n",
            "1\n",
            "Sugar\n",
            "Done\n",
            "Start\n",
            "Training round: \n",
            "2\n",
            "Ham\n",
            "Done\n",
            "Start\n",
            "Training round: \n",
            "3\n",
            "Sugar\n",
            "Done\n",
            "Start\n",
            "Training round: \n",
            "4\n",
            "Sugar\n",
            "Done\n",
            "Start\n",
            "Training round: \n",
            "5\n",
            "Car\n",
            "Done\n",
            "Start\n",
            "Training round: \n",
            "6\n",
            "Car\n",
            "Done\n",
            "Start\n",
            "Training round: \n",
            "7\n",
            "Ham\n",
            "Done\n",
            "Start\n",
            "Training round: \n",
            "8\n",
            "Ham\n",
            "Done\n",
            "Start\n",
            "Training round: \n",
            "9\n",
            "Sugar\n",
            "Done\n",
            "Start\n",
            "Training round: \n",
            "10\n",
            "Ham\n",
            "Done\n",
            "Start\n",
            "Training round: \n",
            "11\n",
            "Ham\n",
            "Done\n",
            "Start\n",
            "Training round: \n",
            "12\n",
            "Ham\n",
            "Done\n",
            "Start\n",
            "Training round: \n",
            "13\n",
            "Sugar\n",
            "Done\n",
            "Start\n",
            "Training round: \n",
            "14\n",
            "Ham\n",
            "Done\n"
          ],
          "name": "stdout"
        }
      ]
    },
    {
      "cell_type": "code",
      "metadata": {
        "id": "onqZzwIXKY1m",
        "outputId": "482dd276-174f-4c9a-8596-589ff9212351"
      },
      "source": [
        "# testing script for best patterns\n",
        "answer_array = []\n",
        "for i in range(3):\n",
        "    print(\"Start\")\n",
        "    index = random.randint(0,2)\n",
        "    print(\"Testing round: \")\n",
        "    print(i)\n",
        "    answer_array.append(word_array[index])\n",
        "    transmit(block_transmit_array_best[index], action_transmit_array_best[index], queue_length_array_best[index])\n",
        "    \n"
      ],
      "execution_count": null,
      "outputs": [
        {
          "output_type": "stream",
          "text": [
            "Start\n",
            "Testing round: \n",
            "0\n",
            "Done\n",
            "Start\n",
            "Testing round: \n",
            "1\n",
            "Done\n",
            "Start\n",
            "Testing round: \n",
            "2\n",
            "Done\n"
          ],
          "name": "stdout"
        }
      ]
    },
    {
      "cell_type": "code",
      "metadata": {
        "id": "JbtCS93jCHne",
        "outputId": "19242f96-b227-40df-de1f-15b23dcf901c"
      },
      "source": [
        "print(answer_array)"
      ],
      "execution_count": null,
      "outputs": [
        {
          "output_type": "stream",
          "text": [
            "['Ham', 'Ham', 'Car', 'Car', 'Car', 'Ham', 'Ham', 'Ham', 'Car', 'Car', 'Sugar', 'Sugar', 'Car', 'Car', 'Ham']\n"
          ],
          "name": "stdout"
        }
      ]
    },
    {
      "cell_type": "code",
      "metadata": {
        "id": "WBhU3ZhuCHne",
        "outputId": "08ee631c-f169-4199-82a4-0b5794ff5945"
      },
      "source": [
        "# make sure comfortable for worst\n",
        "for i in range(3):\n",
        "    print(\"Start\")\n",
        "    print(\"Training round: \")\n",
        "    print(i)\n",
        "    print(word_array[i])\n",
        "    transmit(block_transmit_array_worst[i], action_transmit_array_worst[i], queue_length_array_worst[i])\n",
        "    \n"
      ],
      "execution_count": null,
      "outputs": [
        {
          "output_type": "stream",
          "text": [
            "Start\n",
            "Training round: \n",
            "0\n",
            "Sugar\n",
            "Done\n",
            "Start\n",
            "Training round: \n",
            "1\n",
            "Car\n",
            "Done\n",
            "Start\n",
            "Training round: \n",
            "2\n",
            "Ham\n",
            "Done\n"
          ],
          "name": "stdout"
        }
      ]
    },
    {
      "cell_type": "code",
      "metadata": {
        "id": "lK4kfXi0KY1p",
        "outputId": "99d45156-5afb-4ecc-ce6a-f01e8fd5e761"
      },
      "source": [
        "# training script for worst patterns\n",
        "for i in range(15):\n",
        "    print(\"Start\")\n",
        "    index = random.randint(0,2)\n",
        "    print(\"Training round: \")\n",
        "    print(i)\n",
        "    print(word_array[index])\n",
        "    transmit(block_transmit_array_worst[index], action_transmit_array_worst[index], queue_length_array_worst[index])\n",
        "    \n"
      ],
      "execution_count": null,
      "outputs": [
        {
          "output_type": "stream",
          "text": [
            "Start\n",
            "Training round: \n",
            "0\n",
            "Car\n",
            "Done\n",
            "Start\n",
            "Training round: \n",
            "1\n",
            "Ham\n",
            "Done\n",
            "Start\n",
            "Training round: \n",
            "2\n",
            "Car\n",
            "Done\n",
            "Start\n",
            "Training round: \n",
            "3\n",
            "Ham\n",
            "Done\n",
            "Start\n",
            "Training round: \n",
            "4\n",
            "Sugar\n",
            "Done\n",
            "Start\n",
            "Training round: \n",
            "5\n",
            "Ham\n",
            "Done\n",
            "Start\n",
            "Training round: \n",
            "6\n",
            "Ham\n",
            "Done\n",
            "Start\n",
            "Training round: \n",
            "7\n",
            "Sugar\n",
            "Done\n",
            "Start\n",
            "Training round: \n",
            "8\n",
            "Sugar\n",
            "Done\n",
            "Start\n",
            "Training round: \n",
            "9\n",
            "Sugar\n",
            "Done\n",
            "Start\n",
            "Training round: \n",
            "10\n",
            "Sugar\n",
            "Done\n",
            "Start\n",
            "Training round: \n",
            "11\n",
            "Ham\n",
            "Done\n",
            "Start\n",
            "Training round: \n",
            "12\n",
            "Ham\n",
            "Done\n",
            "Start\n",
            "Training round: \n",
            "13\n",
            "Ham\n",
            "Done\n",
            "Start\n",
            "Training round: \n",
            "14\n",
            "Sugar\n",
            "Done\n"
          ],
          "name": "stdout"
        }
      ]
    },
    {
      "cell_type": "code",
      "metadata": {
        "id": "RSaxB41sKY1t",
        "outputId": "0ebdfc5f-257c-4161-e01e-0c211dbe787c"
      },
      "source": [
        "# testing script for worst patterns\n",
        "answer_array = []\n",
        "for i in range(15):\n",
        "    print(\"Start\")\n",
        "    index = random.randint(0,2)\n",
        "    print(\"Testing round: \")\n",
        "    print(i)\n",
        "    answer_array.append(word_array[index])\n",
        "    transmit(block_transmit_array_worst[index], action_transmit_array_worst[index], queue_length_array_worst[index])\n",
        "    \n"
      ],
      "execution_count": null,
      "outputs": [
        {
          "output_type": "stream",
          "text": [
            "Start\n",
            "Testing round: \n",
            "0\n",
            "Done\n",
            "Start\n",
            "Testing round: \n",
            "1\n",
            "Done\n",
            "Start\n",
            "Testing round: \n",
            "2\n",
            "Done\n",
            "Start\n",
            "Testing round: \n",
            "3\n",
            "Done\n",
            "Start\n",
            "Testing round: \n",
            "4\n",
            "Done\n",
            "Start\n",
            "Testing round: \n",
            "5\n",
            "Done\n",
            "Start\n",
            "Testing round: \n",
            "6\n",
            "Done\n",
            "Start\n",
            "Testing round: \n",
            "7\n",
            "Done\n",
            "Start\n",
            "Testing round: \n",
            "8\n",
            "Done\n",
            "Start\n",
            "Testing round: \n",
            "9\n",
            "Done\n",
            "Start\n",
            "Testing round: \n",
            "10\n",
            "Done\n",
            "Start\n",
            "Testing round: \n",
            "11\n",
            "Done\n",
            "Start\n",
            "Testing round: \n",
            "12\n",
            "Done\n",
            "Start\n",
            "Testing round: \n",
            "13\n",
            "Done\n",
            "Start\n",
            "Testing round: \n",
            "14\n",
            "Done\n"
          ],
          "name": "stdout"
        }
      ]
    },
    {
      "cell_type": "code",
      "metadata": {
        "id": "c0EofjUMKY1w",
        "outputId": "79baaf5e-aa6e-4fe7-fca0-e1cc3c392aa1"
      },
      "source": [
        "print(answer_array)"
      ],
      "execution_count": null,
      "outputs": [
        {
          "output_type": "stream",
          "text": [
            "['Sugar', 'Sugar', 'Car', 'Car', 'Car', 'Sugar', 'Sugar', 'Ham', 'Ham', 'Ham', 'Ham', 'Car', 'Sugar', 'Car', 'Car']\n"
          ],
          "name": "stdout"
        }
      ]
    }
  ]
}