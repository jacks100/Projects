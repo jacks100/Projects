{
 "cells": [
  {
   "cell_type": "code",
   "execution_count": 62,
   "metadata": {},
   "outputs": [],
   "source": [
    "# Two classes: \n",
    "#    Pattern describes behavior of single electrode\n",
    "#    Electrode is array of Pattern objects\n"
   ]
  },
  {
   "cell_type": "code",
   "execution_count": 263,
   "metadata": {},
   "outputs": [],
   "source": [
    "import time\n",
    "import serial\n",
    "import warnings\n",
    "import serial.tools.list_ports\n",
    "# Constants\n",
    "INACTIVE = 0\n",
    "ACTIVE = 1\n",
    "ELECTRODE_COUNT = 2"
   ]
  },
  {
   "cell_type": "code",
   "execution_count": 264,
   "metadata": {},
   "outputs": [],
   "source": [
    "# initialize transmission platform\n",
    "import time\n",
    "import serial\n",
    "import warnings\n",
    "import serial.tools.list_ports\n",
    "\n",
    "start = 99\n",
    "stop = 100\n",
    "port = '/dev/cu.usbmodem141201'\n",
    "ser = serial.Serial(port, 9600, timeout = 0.2)\n",
    "\n",
    "\n",
    "time.sleep(15)\n",
    "#ser.close()\n"
   ]
  },
  {
   "cell_type": "code",
   "execution_count": 265,
   "metadata": {},
   "outputs": [],
   "source": [
    "# Electrode class\n",
    "class Electrode:\n",
    "    def __init__(self):\n",
    "        self.status = 0\n",
    "        self.amplitude = 0\n",
    "        self.frequency = 0\n",
    "    # change status to active or inactive\n",
    "    def Electrode_modify_status(self, status_new): \n",
    "        self.status = status_new\n",
    "    # change amplitude\n",
    "    def Electrode_modify_amplitude(self, amplitude_new):\n",
    "        self.amplitude = amplitude_new\n",
    "    # change frequency\n",
    "    def Electrode_modify_frequency(self, frequency_new):\n",
    "        self.frequency = frequency_new\n",
    "    \n",
    "    # get status of inactive/active\n",
    "    def Electrode_get_status(self):\n",
    "        return self.status\n",
    "    # get the amplitude of the waveform\n",
    "    def Electrode_get_amplitude(self):\n",
    "        return self.amplitude\n",
    "    # get the frequency of the waveform\n",
    "    def Electrode_get_frequency(self):\n",
    "        return self.frequency\n",
    "    # send a pattern\n",
    "    def Electrode_transmit(self, serPort):\n",
    "        serPort.write(str.encode(chr(self.status)))\n",
    "        serPort.write(str.encode(chr(self.amplitude)))\n",
    "        serPort.write(str.encode(chr(self.frequency)))\n",
    "    \n",
    "    # for internal testing print all instance variables for an electrode\n",
    "    def Electrode_display(self, index):\n",
    "        print(\"Electrode \", index)\n",
    "        print(\"Status: \", self.status)\n",
    "        print(\"Frequency: \", self.frequency)\n",
    "        print(\"Amplitude: \", self.amplitude)\n",
    "        \n",
    "        \n"
   ]
  },
  {
   "cell_type": "code",
   "execution_count": 266,
   "metadata": {},
   "outputs": [],
   "source": [
    "# Pattern class\n",
    "class Pattern:\n",
    "    #initialize\n",
    "    def __init__(self):\n",
    "        self.electrode_array = [Electrode() for i in range(ELECTRODE_COUNT)]\n",
    "    # update fields for specific Pattern object\n",
    "    def Pattern_update(self, index, status, amplitude, frequency):\n",
    "        self.electrode_array[index].Electrode_modify_status(status)\n",
    "        self.electrode_array[index].Electrode_modify_amplitude(amplitude)\n",
    "        self.electrode_array[index].Electrode_modify_frequency(frequency)\n",
    "    # iterate through patterns and transmit\n",
    "    def Pattern_transmit(self, serPort):\n",
    "        for i in range(ELECTRODE_COUNT):\n",
    "            self.electrode_array[i].Electrode_transmit(serPort)\n",
    "    \n",
    "    # for internal testing. print all electrodes\n",
    "    def Pattern_display(self):\n",
    "        for i in range(ELECTRODE_COUNT):\n",
    "            self.electrode_array[i].Electrode_display(i)\n",
    "            \n",
    "        "
   ]
  },
  {
   "cell_type": "code",
   "execution_count": 267,
   "metadata": {},
   "outputs": [],
   "source": [
    "\n",
    "stim = Pattern()"
   ]
  },
  {
   "cell_type": "code",
   "execution_count": 268,
   "metadata": {},
   "outputs": [],
   "source": [
    "import ipywidgets as widgets\n",
    "# sliders\n",
    "widget_amplitude_1 = widgets.IntSlider(\n",
    "    min=0,\n",
    "    max=100,\n",
    "    step=1,\n",
    "    description='Amplitude 1:',\n",
    "    value=0\n",
    ")\n",
    "\n",
    "widget_frequency_1 = widgets.IntSlider(\n",
    "    min=0,\n",
    "    max=100,\n",
    "    step=1,\n",
    "    description='Frequency 1:',\n",
    "    value=0\n",
    ")\n",
    "\n",
    "widget_amplitude_2 = widgets.IntSlider(\n",
    "    min=0,\n",
    "    max=100,\n",
    "    step=1,\n",
    "    description='Amplitude 2:',\n",
    "    value=0\n",
    ")\n",
    "\n",
    "widget_frequency_2 = widgets.IntSlider(\n",
    "    min=0,\n",
    "    max=100,\n",
    "    step=1,\n",
    "    description='Frequency 2:',\n",
    "    value=0\n",
    ")\n",
    "\n",
    "# ON/OFF\n",
    "widget_status_electrode1 = widgets.RadioButtons(\n",
    "    options=['ON', 'OFF'],\n",
    "#    value='pineapple', # Defaults to 'pineapple'\n",
    "#    layout={'width': 'max-content'}, # If the items' names are long\n",
    "    description='Electrode 1',\n",
    "    disabled=False\n",
    ")\n",
    "\n",
    "widget_status_electrode2 = widgets.RadioButtons(\n",
    "    options=['ON', 'OFF'],\n",
    "#    value='pineapple', # Defaults to 'pineapple'\n",
    "#    layout={'width': 'max-content'}, # If the items' names are long\n",
    "    description='Electrode 2',\n",
    "    disabled=False\n",
    ")\n",
    "\n",
    "widget_status = [widget_status_electrode1, widget_status_electrode2]\n",
    "widget_amplitude = [widget_amplitude_1, widget_amplitude_2]\n",
    "widget_frequency = [widget_frequency_1, widget_frequency_2]\n",
    "# update button\n",
    "widget_btn = widgets.Button(description='Update')\n",
    "\n",
    "def btn_eventhandler(obj):\n",
    "    #print('Hello from the {} button!'.format(obj.description))\n",
    "    for i in range(ELECTRODE_COUNT):\n",
    "        stim.Pattern_update(i, convertToStatus(widget_status[i].value), widget_amplitude[i].value, widget_frequency[i].value)\n",
    "        stim.Pattern_transmit(ser)\n",
    "widget_btn.on_click(btn_eventhandler)"
   ]
  },
  {
   "cell_type": "code",
   "execution_count": 269,
   "metadata": {
    "scrolled": true
   },
   "outputs": [
    {
     "data": {
      "application/vnd.jupyter.widget-view+json": {
       "model_id": "aa36fcb75a3f44afa8e093ecab1fbc65",
       "version_major": 2,
       "version_minor": 0
      },
      "text/plain": [
       "Button(description='Update', style=ButtonStyle())"
      ]
     },
     "metadata": {},
     "output_type": "display_data"
    },
    {
     "data": {
      "application/vnd.jupyter.widget-view+json": {
       "model_id": "ee2114aae8254d1a92553d3036883813",
       "version_major": 2,
       "version_minor": 0
      },
      "text/plain": [
       "RadioButtons(description='Electrode 1', options=('ON', 'OFF'), value='ON')"
      ]
     },
     "metadata": {},
     "output_type": "display_data"
    },
    {
     "data": {
      "application/vnd.jupyter.widget-view+json": {
       "model_id": "8df7e44c4f81476bbb64f3858f01dc2f",
       "version_major": 2,
       "version_minor": 0
      },
      "text/plain": [
       "IntSlider(value=0, description='Amplitude 1:')"
      ]
     },
     "metadata": {},
     "output_type": "display_data"
    },
    {
     "data": {
      "application/vnd.jupyter.widget-view+json": {
       "model_id": "e044e23141774144a3fd7f6030620b78",
       "version_major": 2,
       "version_minor": 0
      },
      "text/plain": [
       "IntSlider(value=0, description='Frequency 1:')"
      ]
     },
     "metadata": {},
     "output_type": "display_data"
    },
    {
     "data": {
      "application/vnd.jupyter.widget-view+json": {
       "model_id": "8e4a9c707d8e4c48b890df95095d2748",
       "version_major": 2,
       "version_minor": 0
      },
      "text/plain": [
       "RadioButtons(description='Electrode 2', options=('ON', 'OFF'), value='ON')"
      ]
     },
     "metadata": {},
     "output_type": "display_data"
    },
    {
     "data": {
      "application/vnd.jupyter.widget-view+json": {
       "model_id": "ab6451224ad845aabf584703ea686675",
       "version_major": 2,
       "version_minor": 0
      },
      "text/plain": [
       "IntSlider(value=0, description='Amplitude 2:')"
      ]
     },
     "metadata": {},
     "output_type": "display_data"
    },
    {
     "data": {
      "application/vnd.jupyter.widget-view+json": {
       "model_id": "93a7001b1ad64893afdced54bf373781",
       "version_major": 2,
       "version_minor": 0
      },
      "text/plain": [
       "IntSlider(value=0, description='Frequency 2:')"
      ]
     },
     "metadata": {},
     "output_type": "display_data"
    }
   ],
   "source": [
    "from IPython.display import display\n",
    "\n",
    "display(widget_btn, widget_status_electrode1,widget_amplitude_1, widget_frequency_1, widget_status_electrode2, widget_amplitude_2, widget_frequency_2)\n"
   ]
  },
  {
   "cell_type": "code",
   "execution_count": 187,
   "metadata": {},
   "outputs": [],
   "source": [
    "def convertToStatus(s):\n",
    "    if s == \"ON\":\n",
    "        return 1\n",
    "    return 0"
   ]
  },
  {
   "cell_type": "code",
   "execution_count": 188,
   "metadata": {},
   "outputs": [
    {
     "name": "stdout",
     "output_type": "stream",
     "text": [
      "Status 1: \n",
      "A\n"
     ]
    }
   ],
   "source": [
    "print(\"Status 1: \", )\n",
    "print(\"A\")"
   ]
  },
  {
   "cell_type": "code",
   "execution_count": 189,
   "metadata": {},
   "outputs": [
    {
     "name": "stdout",
     "output_type": "stream",
     "text": [
      "Electrode  0\n",
      "Status:  1\n",
      "Frequency:  49\n",
      "Amplitude:  66\n",
      "Electrode  1\n",
      "Status:  1\n",
      "Frequency:  0\n",
      "Amplitude:  0\n"
     ]
    }
   ],
   "source": [
    "stim.Pattern_display()"
   ]
  },
  {
   "cell_type": "code",
   "execution_count": null,
   "metadata": {},
   "outputs": [],
   "source": []
  }
 ],
 "metadata": {
  "kernelspec": {
   "display_name": "Python 3",
   "language": "python",
   "name": "python3"
  },
  "language_info": {
   "codemirror_mode": {
    "name": "ipython",
    "version": 3
   },
   "file_extension": ".py",
   "mimetype": "text/x-python",
   "name": "python",
   "nbconvert_exporter": "python",
   "pygments_lexer": "ipython3",
   "version": "3.7.0"
  }
 },
 "nbformat": 4,
 "nbformat_minor": 2
}
